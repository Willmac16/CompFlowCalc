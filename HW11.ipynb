{
 "cells": [
  {
   "cell_type": "code",
   "execution_count": 1,
   "metadata": {},
   "outputs": [],
   "source": [
    "%%capture\n",
    "import __init__ as CFC\n",
    "\n",
    "import math\n",
    "import numpy as np\n",
    "import matplotlib.pyplot as plt\n",
    "\n",
    "import math\n",
    "from scipy.optimize import root_scalar, root"
   ]
  },
  {
   "cell_type": "markdown",
   "metadata": {},
   "source": [
    "## 11.1"
   ]
  },
  {
   "cell_type": "code",
   "execution_count": 2,
   "metadata": {},
   "outputs": [
    {
     "data": {
      "image/png": "[encoded data removed]",
      "text/plain": [
       "<Figure size 640x480 with 1 Axes>"
      ]
     },
     "metadata": {},
     "output_type": "display_data"
    }
   ],
   "source": [
    "machs = np.linspace(0.01, 6.2, 1000)\n",
    "\n",
    "ars = [CFC.ar_explicit(1.4, mach) for mach in machs]\n",
    "\n",
    "plt.plot(machs, ars)\n",
    "plt.xscale('log')\n",
    "plt.title('Area Ratio vs Mach Number')\n",
    "plt.xlabel('Mach Number')\n",
    "plt.ylabel('Area Ratio')\n",
    "plt.show()"
   ]
  },
  {
   "cell_type": "markdown",
   "metadata": {},
   "source": [
    "## 11.2"
   ]
  },
  {
   "cell_type": "markdown",
   "metadata": {},
   "source": [
    "### 11.2 a)"
   ]
  },
  {
   "cell_type": "markdown",
   "metadata": {},
   "source": [
    "* $\\dot m$ is constant by mass conservation\n",
    "* $\\gamma$ & $R$ are constants for a perfect gas\n",
    "* and $T_0$ is constant for adiabatic flow, such as across a normal shock\n",
    "\n",
    "Therefore, $p_0A^* = \\text{constant}$"
   ]
  },
  {
   "cell_type": "markdown",
   "metadata": {},
   "source": [
    "### 11.2 b)"
   ]
  },
  {
   "cell_type": "code",
   "execution_count": 3,
   "metadata": {},
   "outputs": [
    {
     "data": {
      "text/plain": [
       "Mach: 0.089460\n",
       "Area Ratio:  6.500000"
      ]
     },
     "execution_count": 3,
     "metadata": {},
     "output_type": "execute_result"
    }
   ],
   "source": [
    "gamma = 1.4\n",
    "exit_to_throat_area_ratio = 6.5\n",
    "\n",
    "ar = CFC.AreaRatio(gamma, area_ratio=exit_to_throat_area_ratio, super_sonic=False)\n",
    "ar"
   ]
  },
  {
   "cell_type": "code",
   "execution_count": 4,
   "metadata": {},
   "outputs": [
    {
     "data": {
      "text/plain": [
       "Pressure Ratio: 1.00561\n",
       "Temp Ratio: 1.00160\n",
       "Density Ratio: 1.00401"
      ]
     },
     "execution_count": 4,
     "metadata": {},
     "output_type": "execute_result"
    }
   ],
   "source": [
    "isen = CFC.IsentropicRatio(gamma, mach=ar.mach)\n",
    "isen"
   ]
  },
  {
   "cell_type": "code",
   "execution_count": 9,
   "metadata": {},
   "outputs": [
    {
     "name": "stdout",
     "output_type": "stream",
     "text": [
      "Exit Mach: 0.08946\n",
      "P_pe / P_0: 0.99442\n",
      "T_te / T_0: 0.99840\n"
     ]
    }
   ],
   "source": [
    "print(f\"Exit Mach: {ar.mach:.5f}\")\n",
    "print(f\"P_pe / P_0: {1 / isen.pressure_ratio:.5f}\")\n",
    "print(f\"T_te / T_0: {1 / isen.temp_ratio:.5f}\")"
   ]
  },
  {
   "cell_type": "markdown",
   "metadata": {},
   "source": [
    "### 11.2 c)"
   ]
  },
  {
   "cell_type": "code",
   "execution_count": 6,
   "metadata": {},
   "outputs": [
    {
     "data": {
      "text/plain": [
       "Mach: 3.453285\n",
       "Area Ratio:  6.500000"
      ]
     },
     "execution_count": 6,
     "metadata": {},
     "output_type": "execute_result"
    }
   ],
   "source": [
    "exit_over_inlet = 0.3\n",
    "\n",
    "ar_super = CFC.AreaRatio(gamma, area_ratio=exit_to_throat_area_ratio, super_sonic=True)\n",
    "ar_super"
   ]
  },
  {
   "cell_type": "code",
   "execution_count": 10,
   "metadata": {},
   "outputs": [
    {
     "data": {
      "text/plain": [
       "Pressure Ratio: 13.74604\n",
       "Temp Ratio: 3.25158\n",
       "Density Ratio: 4.22749\n",
       "Stag Ratio: 0.22174\n",
       "Exit Stag Ratio: 15.82403\n",
       "Mach 2: 0.45300"
      ]
     },
     "execution_count": 10,
     "metadata": {},
     "output_type": "execute_result"
    }
   ],
   "source": [
    "exit_shock = CFC.NormalShockRatio(gamma, mach=ar_super.mach)\n",
    "exit_shock"
   ]
  },
  {
   "cell_type": "code",
   "execution_count": 15,
   "metadata": {
    "notebookRunGroups": {
     "groupValue": ""
    }
   },
   "outputs": [
    {
     "data": {
      "text/plain": [
       "0.1926222563600863"
      ]
     },
     "execution_count": 15,
     "metadata": {},
     "output_type": "execute_result"
    }
   ],
   "source": [
    "# PE / P1 / (P01 / P1) = PE / P01\n",
    "exit_shock_press_ratio = exit_shock.pressure_ratio / CFC.IsentropicRatio(gamma, mach=ar_super.mach).pressure_ratio\n",
    "exit_shock_press_ratio"
   ]
  },
  {
   "cell_type": "code",
   "execution_count": 17,
   "metadata": {},
   "outputs": [
    {
     "name": "stdout",
     "output_type": "stream",
     "text": [
      "Exit Mach: 0.45300\n",
      "P_pe / P_0: 0.19262\n"
     ]
    }
   ],
   "source": [
    "print(f\"Exit Mach: {exit_shock.mach_two:.5f}\")\n",
    "print(f\"P_pe / P_0: {exit_shock_press_ratio:.5f}\")"
   ]
  },
  {
   "cell_type": "code",
   "execution_count": 20,
   "metadata": {},
   "outputs": [],
   "source": [
    "def between(bounds, val):\n",
    "    small = min(bounds)\n",
    "    large = max(bounds)\n",
    "    \n",
    "    return small <= val <= large\n",
    "  \n",
    "assert(between((1 / isen.pressure_ratio, exit_shock_press_ratio), exit_over_inlet))"
   ]
  },
  {
   "cell_type": "markdown",
   "metadata": {},
   "source": [
    "### 11.2 d)"
   ]
  },
  {
   "cell_type": "markdown",
   "metadata": {},
   "source": [
    "$P_{0, 1} A_t = P_{0, 2} A_2^*$\n",
    "\n",
    "$\\frac{A_t}{A_2^*} = \\frac{P_{0, 2}}{P_{0, 1}}$\n",
    "\n",
    "$\\frac{A_e}{A_2^*} = \\frac{A_e}{A_t} \\frac{A_t}{A_2^*} = \\frac{A_e}{A_t} \\frac{P_{0, 2}}{P_{0, 1}}$\n",
    "\n",
    "$\\frac{A_e}{A_2^*} = A_{ratio} (\\gamma, M_3)$"
   ]
  },
  {
   "cell_type": "markdown",
   "metadata": {},
   "source": [
    "### 11.2 e)"
   ]
  },
  {
   "cell_type": "code",
   "execution_count": 45,
   "metadata": {},
   "outputs": [
    {
     "data": {
      "image/png": "[encoded data removed]",
      "text/plain": [
       "<Figure size 640x480 with 1 Axes>"
      ]
     },
     "metadata": {},
     "output_type": "display_data"
    },
    {
     "name": "stdout",
     "output_type": "stream",
     "text": [
      "Shock Stagnation Ratio: 0.31858\n"
     ]
    }
   ],
   "source": [
    "def nozzle_ratio(exit_over_throat, shock_stag_ratio):\n",
    "    exit_over_two_star = exit_over_throat * shock_stag_ratio\n",
    "    mach_three = CFC.AreaRatio(gamma, area_ratio=exit_over_two_star, super_sonic=False).mach\n",
    "    \n",
    "    exit_over_post_shock_stag = 1 / CFC.IsentropicRatio(gamma, mach=mach_three).pressure_ratio\n",
    "    \n",
    "    return exit_over_post_shock_stag * shock_stag_ratio\n",
    "  \n",
    "ratios = np.linspace(1 / isen.pressure_ratio, exit_shock_press_ratio, 1000)\n",
    "nozzle_ratios = [nozzle_ratio(exit_to_throat_area_ratio, ratio) for ratio in ratios]\n",
    "\n",
    "plt.plot(ratios, nozzle_ratios)\n",
    "plt.axhline(y=exit_over_inlet, color='r', linestyle='--')\n",
    "plt.title('Nozzle Ratio vs Shock Stagnation Ratio')\n",
    "plt.xlabel('Shock Stagnation Ratio')\n",
    "plt.ylabel('Nozzle Ratio')\n",
    "plt.show()\n",
    "\n",
    "shock_stag_ratio = root_scalar( lambda x: nozzle_ratio(exit_to_throat_area_ratio, x) - exit_over_inlet,\n",
    "                                bracket=(1 / isen.pressure_ratio, exit_shock_press_ratio)).root\n",
    "print(f\"Shock Stagnation Ratio: {shock_stag_ratio:.5f}\")"
   ]
  },
  {
   "cell_type": "markdown",
   "metadata": {},
   "source": [
    "### 11.2 f)"
   ]
  },
  {
   "cell_type": "code",
   "execution_count": 46,
   "metadata": {},
   "outputs": [
    {
     "name": "stdout",
     "output_type": "stream",
     "text": [
      "Pre-Shock Mach: 3.03507\n"
     ]
    }
   ],
   "source": [
    "mach_one = root_scalar(lambda mach: CFC.NormalShockRatio(gamma, mach=mach).stag_ratio - shock_stag_ratio, bracket=(1, 10)).root\n",
    "print(f\"Pre-Shock Mach: {mach_one:.5f}\")"
   ]
  },
  {
   "cell_type": "markdown",
   "metadata": {},
   "source": [
    "### 11.2 g)"
   ]
  },
  {
   "cell_type": "code",
   "execution_count": 47,
   "metadata": {},
   "outputs": [
    {
     "name": "stdout",
     "output_type": "stream",
     "text": [
      "Shock Area Ratio: 4.37834\n"
     ]
    }
   ],
   "source": [
    "shock_area_ratio = CFC.AreaRatio(gamma, mach=mach_one).area_ratio\n",
    "print(f\"Shock Area Ratio: {shock_area_ratio:.5f}\")"
   ]
  }
 ],
 "metadata": {
  "kernelspec": {
   "display_name": "Python 3",
   "language": "python",
   "name": "python3"
  },
  "language_info": {
   "codemirror_mode": {
    "name": "ipython",
    "version": 3
   },
   "file_extension": ".py",
   "mimetype": "text/x-python",
   "name": "python",
   "nbconvert_exporter": "python",
   "pygments_lexer": "ipython3",
   "version": "3.11.undefined"
  }
 },
 "nbformat": 4,
 "nbformat_minor": 2
}
