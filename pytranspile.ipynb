{
 "cells": [
  {
   "cell_type": "code",
   "execution_count": 1,
   "metadata": {},
   "outputs": [],
   "source": [
    "import CompFlowCalcs as CF\n",
    "import basically_ti_basic.tokens as ti_tokens\n",
    "import inspect"
   ]
  },
  {
   "cell_type": "code",
   "execution_count": 2,
   "metadata": {},
   "outputs": [
    {
     "name": "stdout",
     "output_type": "stream",
     "text": [
      "['ExpansionWaveRatio', 'IsentropicRatio', 'NormalShockRatio', 'ObliqueShockResult', 'PressureInverseIsentropicRatio']\n"
     ]
    }
   ],
   "source": [
    "classes = [name for name, obj in inspect.getmembers(CF) if inspect.isclass(obj)]\n",
    "print(classes)\n"
   ]
  },
  {
   "cell_type": "code",
   "execution_count": 3,
   "metadata": {},
   "outputs": [
    {
     "data": {
      "text/plain": [
       "{'ExpansionWaveRatio': '    def __init__(self, gamma, mach):\\n        self.velocity_ratio = 1 / (1 + (gamma - 1) / 2 * mach)\\n        self.pressure_ratio = 1 / (1 + (gamma - 1) / 2 * mach) ** (2 * gamma / (gamma - 1))\\n        self.temp_ratio = 1 / (1 + (gamma - 1) / 2 * mach) ** 2\\n        self.density_ratio = 1 / (1 + (gamma - 1) / 2 * mach) ** (2 / (gamma - 1))\\n',\n",
       " 'IsentropicRatio': '    def __init__(self, gamma, mach):\\n        self.temp_ratio = 1 + (gamma - 1) / 2 * mach ** 2\\n\\n        self.pressure_ratio = self.temp_ratio ** (gamma / (gamma - 1))\\n        self.density_ratio = self.temp_ratio ** (1 / (gamma - 1))\\n',\n",
       " 'NormalShockRatio': '    def __init__(self, gamma, mach):\\n        self.pressure_ratio = (2 * gamma * mach ** 2 - (gamma - 1)) / (gamma + 1)\\n        self.temp_ratio = (2 * gamma * mach ** 2 - (gamma - 1)) * ((gamma - 1) * mach ** 2 + 2) / ((gamma + 1) ** 2 * mach ** 2)\\n        self.density_ratio = (gamma + 1) * mach ** 2 / ((gamma - 1) * mach ** 2 + 2)\\n\\n        self.stag_ratio = self.temp_ratio ** (-gamma / (gamma - 1)) * self.pressure_ratio\\n\\n        stag_one = IsentropicRatio(gamma, mach).pressure_ratio\\n        self.exit_stag_ratio = self.stag_ratio * stag_one\\n        self.mach_two = ((1 + (gamma - 1) / 2 * mach ** 2) / (gamma * mach ** 2 - (gamma - 1) / 2)) ** 0.5\\n',\n",
       " 'ObliqueShockResult': '    def __init__(self, gamma, mach_one, beta):\\n        self.theta = math.atan(2 / math.tan(beta) * (mach_one ** 2 * math.sin(beta) ** 2 - 1) / (mach_one ** 2 * (gamma + math.cos(2 * beta)) + 2))\\n        mach_one_normal = mach_one * math.sin(beta)\\n\\n        self.shock_ratio: NormalShockRatio = NormalShockRatio(gamma, mach_one_normal)\\n        mach_two_normal = self.shock_ratio.mach_two\\n        self.mach_two = mach_two_normal / math.sin(self.theta - beta)\\n',\n",
       " 'PressureInverseIsentropicRatio': '    def __init__(self, gamma, pressure_ratio):\\n        self.temp_ratio = pressure_ratio ** ((gamma - 1) / gamma)\\n        self.mach = (2 * (self.temp_ratio - 1) / (gamma - 1)) ** 0.5\\n'}"
      ]
     },
     "execution_count": 3,
     "metadata": {},
     "output_type": "execute_result"
    }
   ],
   "source": [
    "import inspect\n",
    "\n",
    "init_contents = {}\n",
    "for class_name in classes:\n",
    "  class_obj = getattr(CF, class_name)\n",
    "  init_func = getattr(class_obj, '__init__')\n",
    "  init_source = inspect.getsource(init_func)\n",
    "  init_contents[class_name] = init_source\n",
    "\n",
    "init_contents\n"
   ]
  },
  {
   "cell_type": "code",
   "execution_count": 4,
   "metadata": {},
   "outputs": [
    {
     "data": {
      "text/plain": [
       "'    def __init__(self, gamma, mach):\\n        self.velocity_ratio = 1 / (1 + (gamma - 1) / 2 * mach)\\n        self.pressure_ratio = 1 / (1 + (gamma - 1) / 2 * mach) ** (2 * gamma / (gamma - 1))\\n        self.temp_ratio = 1 / (1 + (gamma - 1) / 2 * mach) ** 2\\n        self.density_ratio = 1 / (1 + (gamma - 1) / 2 * mach) ** (2 / (gamma - 1))\\n'"
      ]
     },
     "execution_count": 4,
     "metadata": {},
     "output_type": "execute_result"
    }
   ],
   "source": [
    "init_contents[classes[0]]"
   ]
  },
  {
   "cell_type": "code",
   "execution_count": 5,
   "metadata": {},
   "outputs": [
    {
     "data": {
      "text/plain": [
       "{'ExpansionWaveRatio': ['self.velocity_ratio',\n",
       "  'self.pressure_ratio',\n",
       "  'self.temp_ratio',\n",
       "  'self.density_ratio'],\n",
       " 'IsentropicRatio': ['self.temp_ratio',\n",
       "  'self.pressure_ratio',\n",
       "  'self.density_ratio'],\n",
       " 'NormalShockRatio': ['self.pressure_ratio',\n",
       "  'self.temp_ratio',\n",
       "  'self.density_ratio',\n",
       "  'self.stag_ratio',\n",
       "  'stag_one',\n",
       "  'self.exit_stag_ratio',\n",
       "  'self.mach_two'],\n",
       " 'ObliqueShockResult': ['self.theta',\n",
       "  'mach_one_normal',\n",
       "  'self.shock_ratio: NormalShockRatio',\n",
       "  'mach_two_normal',\n",
       "  'self.mach_two'],\n",
       " 'PressureInverseIsentropicRatio': ['self.temp_ratio', 'self.mach']}"
      ]
     },
     "execution_count": 5,
     "metadata": {},
     "output_type": "execute_result"
    }
   ],
   "source": [
    "import inspect\n",
    "\n",
    "symbols_per_class = {}\n",
    "for class_name in classes:\n",
    "    class_obj = getattr(CF, class_name)\n",
    "    init_func = getattr(class_obj, '__init__')\n",
    "    init_source = inspect.getsource(init_func)\n",
    "    \n",
    "    # Extract symbols from the init function source code\n",
    "    symbols = [symbol.split('=')[0].strip() for symbol in init_source.split('\\n') if '=' in symbol]\n",
    "    \n",
    "    symbols_per_class[class_name] = symbols\n",
    "\n",
    "symbols_per_class"
   ]
  },
  {
   "cell_type": "code",
   "execution_count": 6,
   "metadata": {},
   "outputs": [
    {
     "data": {
      "text/plain": [
       "{'mach_one_normal',\n",
       " 'mach_two_normal',\n",
       " 'self.density_ratio',\n",
       " 'self.exit_stag_ratio',\n",
       " 'self.mach',\n",
       " 'self.mach_two',\n",
       " 'self.pressure_ratio',\n",
       " 'self.shock_ratio: NormalShockRatio',\n",
       " 'self.stag_ratio',\n",
       " 'self.temp_ratio',\n",
       " 'self.theta',\n",
       " 'self.velocity_ratio',\n",
       " 'stag_one'}"
      ]
     },
     "execution_count": 6,
     "metadata": {},
     "output_type": "execute_result"
    }
   ],
   "source": [
    "all_symbols = set()\n",
    "for symbols in symbols_per_class.values():\n",
    "    all_symbols.update(symbols)\n",
    "\n",
    "all_symbols\n"
   ]
  },
  {
   "cell_type": "code",
   "execution_count": 7,
   "metadata": {},
   "outputs": [
    {
     "data": {
      "text/plain": [
       "13"
      ]
     },
     "execution_count": 7,
     "metadata": {},
     "output_type": "execute_result"
    }
   ],
   "source": [
    "total_symbols = len(all_symbols)\n",
    "total_symbols\n"
   ]
  },
  {
   "cell_type": "code",
   "execution_count": 8,
   "metadata": {},
   "outputs": [
    {
     "data": {
      "text/plain": [
       "{'beta', 'gamma', 'mach', 'mach_one', 'pressure_ratio'}"
      ]
     },
     "execution_count": 8,
     "metadata": {},
     "output_type": "execute_result"
    }
   ],
   "source": [
    "init_parameters = {}\n",
    "for class_name, init_source in init_contents.items():\n",
    "    init_func = getattr(CF, class_name).__init__\n",
    "    init_signature = inspect.signature(init_func)\n",
    "    parameters = list(init_signature.parameters.keys())[1:]  # Exclude the 'self' parameter\n",
    "    init_parameters[class_name] = parameters\n",
    "\n",
    "function_parameters = set()\n",
    "for parameters in init_parameters.values():\n",
    "    function_parameters.update(parameters)\n",
    "\n",
    "function_parameters\n"
   ]
  },
  {
   "cell_type": "code",
   "execution_count": 9,
   "metadata": {},
   "outputs": [
    {
     "data": {
      "text/plain": [
       "{'mach_one_normal',\n",
       " 'mach_two_normal',\n",
       " 'self.density_ratio',\n",
       " 'self.exit_stag_ratio',\n",
       " 'self.mach',\n",
       " 'self.mach_two',\n",
       " 'self.pressure_ratio',\n",
       " 'self.shock_ratio: NormalShockRatio',\n",
       " 'self.stag_ratio',\n",
       " 'self.temp_ratio',\n",
       " 'self.theta',\n",
       " 'self.velocity_ratio',\n",
       " 'stag_one'}"
      ]
     },
     "execution_count": 9,
     "metadata": {},
     "output_type": "execute_result"
    }
   ],
   "source": [
    "all_symbols"
   ]
  },
  {
   "cell_type": "code",
   "execution_count": 13,
   "metadata": {},
   "outputs": [],
   "source": [
    "inv = ti_tokens.get_inverse_tokens()\n",
    "# inv"
   ]
  },
  {
   "cell_type": "code",
   "execution_count": 15,
   "metadata": {},
   "outputs": [
    {
     "data": {
      "text/plain": [
       "['mach_two_normal',\n",
       " 'self.shock_ratio: NormalShockRatio',\n",
       " 'self.mach',\n",
       " 'stag_one',\n",
       " 'mach_one_normal']"
      ]
     },
     "execution_count": 15,
     "metadata": {},
     "output_type": "execute_result"
    }
   ],
   "source": [
    "symbol_token_map = {\n",
    "  # Output Tokens\n",
    "  'self.density_ratio': 'D',\n",
    "  'self.pressure_ratio': 'P',\n",
    "  'self.temp_ratio': 'T',\n",
    "  'self.theta': '[theta]',\n",
    "  'self.exit_stag_ratio': 'E',\n",
    "  'self.stag_ratio': 'S',\n",
    "  'self.velocity_ratio': 'V',\n",
    "  'self.mach_two': '?',\n",
    "  \n",
    "  # Input Tokens\n",
    "  'beta': 'B',\n",
    "  'gamma': 'G',\n",
    "  'mach': 'M',\n",
    "}\n",
    "\n",
    "tokens = set(symbol_token_map.values())\n",
    "no_duplicate_tokens = len(tokens) == len(symbol_token_map)\n",
    "assert no_duplicate_tokens\n",
    "\n",
    "\n",
    "values_in_map = set(symbol_token_map.values())\n",
    "keys_in_inv = set(inv.keys())\n",
    "\n",
    "all_values_in_inv = values_in_map.issubset(keys_in_inv)\n",
    "assert(all_values_in_inv)\n",
    "\n",
    "\n",
    "symbols_not_in_map = [symbol for symbol in all_symbols if symbol not in symbol_token_map]\n",
    "symbols_not_in_map\n",
    "# assert len(symbols_not_in_map) == 0"
   ]
  },
  {
   "cell_type": "code",
   "execution_count": 16,
   "metadata": {},
   "outputs": [
    {
     "data": {
      "text/plain": [
       "{'ExpansionWaveRatio': '    def __init__(self, G, M):\\n        V = 1 / (1 + (G - 1) / 2 * M)\\n        P = 1 / (1 + (G - 1) / 2 * M) ** (2 * G / (G - 1))\\n        T = 1 / (1 + (G - 1) / 2 * M) ** 2\\n        D = 1 / (1 + (G - 1) / 2 * M) ** (2 / (G - 1))\\n',\n",
       " 'IsentropicRatio': '    def __init__(self, G, M):\\n        T = 1 + (G - 1) / 2 * M ** 2\\n\\n        P = T ** (G / (G - 1))\\n        D = T ** (1 / (G - 1))\\n',\n",
       " 'NormalShockRatio': '    def __init__(self, G, M):\\n        P = (2 * G * M ** 2 - (G - 1)) / (G + 1)\\n        T = (2 * G * M ** 2 - (G - 1)) * ((G - 1) * M ** 2 + 2) / ((G + 1) ** 2 * M ** 2)\\n        D = (G + 1) * M ** 2 / ((G - 1) * M ** 2 + 2)\\n\\n        S = T ** (-G / (G - 1)) * P\\n\\n        stag_one = IsentropicRatio(G, M).pressure_ratio\\n        E = S * stag_one\\n        ? = ((1 + (G - 1) / 2 * M ** 2) / (G * M ** 2 - (G - 1) / 2)) ** 0.5\\n',\n",
       " 'ObliqueShockResult': '    def __init__(self, G, M_one, B):\\n        [theta] = math.atan(2 / math.tan(B) * (M_one ** 2 * math.sin(B) ** 2 - 1) / (M_one ** 2 * (G + math.cos(2 * B)) + 2))\\n        M_one_normal = M_one * math.sin(B)\\n\\n        self.shock_ratio: NormalShockRatio = NormalShockRatio(G, M_one_normal)\\n        M_two_normal = self.shock_ratio.M_two\\n        ? = M_two_normal / math.sin([theta] - B)\\n',\n",
       " 'PressureInverseIsentropicRatio': '    def __init__(self, G, pressure_ratio):\\n        T = pressure_ratio ** ((G - 1) / G)\\n        self.M = (2 * (T - 1) / (G - 1)) ** 0.5\\n'}"
      ]
     },
     "execution_count": 16,
     "metadata": {},
     "output_type": "execute_result"
    }
   ],
   "source": [
    "translated_init_contents = {}\n",
    "for class_name, init_source in init_contents.items():\n",
    "    translated_source = init_source\n",
    "    for symbol, token in symbol_token_map.items():\n",
    "        translated_source = translated_source.replace(symbol, token)\n",
    "    translated_init_contents[class_name] = translated_source\n",
    "translated_init_contents\n"
   ]
  },
  {
   "cell_type": "code",
   "execution_count": 17,
   "metadata": {},
   "outputs": [
    {
     "data": {
      "text/plain": [
       "{'ExpansionWaveRatio': ['1 / (1 + (G - 1) / 2 * M) → V',\n",
       "  '1 / (1 + (G - 1) / 2 * M) ^ (2 * G / (G - 1)) → P',\n",
       "  '1 / (1 + (G - 1) / 2 * M) ^ 2 → T',\n",
       "  '1 / (1 + (G - 1) / 2 * M) ^ (2 / (G - 1)) → D'],\n",
       " 'IsentropicRatio': ['1 + (G - 1) / 2 * M ^ 2 → T',\n",
       "  'T ^ (G / (G - 1)) → P',\n",
       "  'T ^ (1 / (G - 1)) → D'],\n",
       " 'NormalShockRatio': ['(2 * G * M ^ 2 - (G - 1)) / (G + 1) → P',\n",
       "  '(2 * G * M ^ 2 - (G - 1)) * ((G - 1) * M ^ 2 + 2) / ((G + 1) ^ 2 * M ^ 2) → T',\n",
       "  '(G + 1) * M ^ 2 / ((G - 1) * M ^ 2 + 2) → D',\n",
       "  'T ^ (-G / (G - 1)) * P → S',\n",
       "  'IsentropicRatio(G, M).pressure_ratio → stag_one',\n",
       "  'S * stag_one → E',\n",
       "  '((1 + (G - 1) / 2 * M ^ 2) / (G * M ^ 2 - (G - 1) / 2)) ^ 0.5 → ?'],\n",
       " 'ObliqueShockResult': ['math.atan(2 / math.tan(B) * (M_one ^ 2 * math.sin(B) ^ 2 - 1) / (M_one ^ 2 * (G + math.cos(2 * B)) + 2)) → [theta]',\n",
       "  'M_one * math.sin(B) → M_one_normal',\n",
       "  'NormalShockRatio(G, M_one_normal) → self.shock_ratio: NormalShockRatio',\n",
       "  'self.shock_ratio.M_two → M_two_normal',\n",
       "  'M_two_normal / math.sin([theta] - B) → ?'],\n",
       " 'PressureInverseIsentropicRatio': ['pressure_ratio ^ ((G - 1) / G) → T',\n",
       "  '(2 * (T - 1) / (G - 1)) ^ 0.5 → self.M']}"
      ]
     },
     "execution_count": 17,
     "metadata": {},
     "output_type": "execute_result"
    }
   ],
   "source": [
    "split_init_contents = {}\n",
    "for class_name, init_source in translated_init_contents.items():\n",
    "  l = [line.lstrip() for line in init_source.splitlines()[1:] if '=' in line]\n",
    "\n",
    "  l = [line.replace(\"**\", \"^\") for line in l]\n",
    "  \n",
    "\n",
    "  split_init_contents[class_name] = []\n",
    "  for line in l:\n",
    "    s = line.split('=')\n",
    "    split_init_contents[class_name].append(f\"{s[1].strip()} → {s[0].strip()}\".strip())\n",
    "\n",
    "split_init_contents\n"
   ]
  },
  {
   "cell_type": "code",
   "execution_count": 18,
   "metadata": {},
   "outputs": [],
   "source": [
    "import os\n",
    "\n",
    "# Create a directory to save the .ti files\n",
    "os.makedirs(\"ti_files\", exist_ok=True)\n",
    "\n",
    "# Strip spaces from each value in split_init_contents and save as .ti file\n",
    "for class_name, contents in split_init_contents.items():\n",
    "  stripped_contents = [content.replace(\" \", \"\") for content in contents]\n",
    "  file_path = f\"ti_files/{class_name}.ti\"\n",
    "  with open(file_path, \"w\") as file:\n",
    "    file.write(\"\\n\".join(stripped_contents))\n"
   ]
  }
 ],
 "metadata": {
  "kernelspec": {
   "display_name": "Python 3",
   "language": "python",
   "name": "python3"
  },
  "language_info": {
   "codemirror_mode": {
    "name": "ipython",
    "version": 3
   },
   "file_extension": ".py",
   "mimetype": "text/x-python",
   "name": "python",
   "nbconvert_exporter": "python",
   "pygments_lexer": "ipython3",
   "version": "3.12.0"
  }
 },
 "nbformat": 4,
 "nbformat_minor": 2
}
