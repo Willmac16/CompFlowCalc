{
 "cells": [
  {
   "cell_type": "markdown",
   "metadata": {},
   "source": [
    "## 8.3"
   ]
  },
  {
   "cell_type": "code",
   "execution_count": 1,
   "metadata": {},
   "outputs": [],
   "source": [
    "%%capture\n",
    "from scipy.optimize import root_scalar\n",
    "import matplotlib.pyplot as plt\n",
    "import numpy as np"
   ]
  },
  {
   "cell_type": "code",
   "execution_count": 53,
   "metadata": {},
   "outputs": [],
   "source": [
    "class DriverConfig:\n",
    "  def __init__(self, driver_temp, driver_gamma, driver_pressure, driven_pressure, driver_molar_mass):\n",
    "    self.driver_temp = driver_temp\n",
    "    self.driver_gamma = driver_gamma\n",
    "    self.driver_pressure = driver_pressure\n",
    "    self.driven_pressure = driven_pressure\n",
    "    self.driver_molar_mass = driver_molar_mass\n",
    "\n",
    "    self.shock_mach = 0\n",
    "    self.u_contact = 0\n",
    "    self.p_two = 0\n",
    "\n",
    "  def driver_R(self):\n",
    "    return 8.31446261815324 / self.driver_molar_mass"
   ]
  },
  {
   "cell_type": "code",
   "execution_count": 5,
   "metadata": {},
   "outputs": [],
   "source": [
    "driven_gamma = 1.4\n",
    "driven_temp = 295\n",
    "driven_R = 287.052874"
   ]
  },
  {
   "cell_type": "markdown",
   "metadata": {},
   "source": [
    "### i-iii"
   ]
  },
  {
   "cell_type": "code",
   "execution_count": 3,
   "metadata": {},
   "outputs": [],
   "source": [
    "driver_configs = []\n",
    "driver_configs.append(DriverConfig(295, 5/3, 1.2e6, 50e3, 4.002602e-3))\n",
    "driver_configs.append(DriverConfig(2500, 1.5, 650e3, 100, 7.5e-3))\n",
    "driver_configs.append(DriverConfig(4600, 5/3, 110e6, 100e3, 5.6e-3))\n"
   ]
  },
  {
   "cell_type": "markdown",
   "metadata": {},
   "source": [
    "### b"
   ]
  },
  {
   "cell_type": "code",
   "execution_count": 34,
   "metadata": {},
   "outputs": [
    {
     "name": "stdout",
     "output_type": "stream",
     "text": [
      "config i\n",
      "2.5714086448254747\n",
      "config ii\n",
      "12.738545450126754\n",
      "config iii\n",
      "11.528272193820246\n"
     ]
    }
   ],
   "source": [
    "for ind, conf in enumerate(driver_configs):\n",
    "  print(\"config\", \"\".join([\"i\"] * (ind + 1)))\n",
    "  lhs = conf.driver_pressure / conf.driven_pressure\n",
    "\n",
    "  a_ratio = (driven_gamma / conf.driver_gamma * driven_R / conf.driver_R() * driven_temp / conf.driver_temp) ** 0.5\n",
    "\n",
    "  def rhs(shock_mach):\n",
    "    out = 1 + 2 * driven_gamma / (driven_gamma + 1) * (shock_mach ** 2 - 1)\n",
    "    out /= (1 - (conf.driver_gamma - 1) / (driven_gamma + 1) * a_ratio * (shock_mach ** 2 - 1) / shock_mach) ** (2 * conf.driver_gamma / (conf.driver_gamma - 1))\n",
    "    return out\n",
    "  \n",
    "  def equation(shock_mach):\n",
    "      return rhs(shock_mach) - lhs\n",
    "\n",
    "  \n",
    "\n",
    "\n",
    "  result = root_scalar(equation, bracket=[0.1, 25], x0 = 10, method='secant')\n",
    "  shock_mach_value = result.root\n",
    "\n",
    "  print(shock_mach_value)\n",
    "  conf.shock_mach = shock_mach_value\n",
    "  "
   ]
  },
  {
   "cell_type": "markdown",
   "metadata": {},
   "source": [
    "### c"
   ]
  },
  {
   "cell_type": "code",
   "execution_count": 56,
   "metadata": {},
   "outputs": [
    {
     "name": "stdout",
     "output_type": "stream",
     "text": [
      "config i\n",
      "Mach of Three 1.8413916032575262 which is to the right\n",
      "config ii\n",
      "Mach of Three -1.754814871866512 which is to the left\n",
      "config iii\n",
      "Mach of Three 0.08310866625922707 which is to the right\n"
     ]
    }
   ],
   "source": [
    "for ind, conf in enumerate(driver_configs):\n",
    "  print(\"config\", \"\".join([\"i\"] * (ind + 1)))\n",
    "\n",
    "  a_one = (driven_gamma * driven_R * driven_temp) ** 0.5\n",
    "  a_four = (conf.driver_gamma * conf.driver_R() * conf.driver_temp) ** 0.5\n",
    "\n",
    "  u_contact = a_one * 2 * (conf.shock_mach ** 2 - 1) / (driven_gamma + 1) / conf.shock_mach\n",
    "\n",
    "  conf.u_contact = u_contact\n",
    "\n",
    "  mach_exp = ((a_four / u_contact) - 1) / ((conf.driver_gamma - 1) / 2)\n",
    "\n",
    "  print(\"Mach of Three\", mach_exp, \"which is to the\", \"left\" if mach_exp < 0 else \"right\")"
   ]
  },
  {
   "cell_type": "markdown",
   "metadata": {},
   "source": [
    "### d"
   ]
  },
  {
   "cell_type": "code",
   "execution_count": 54,
   "metadata": {},
   "outputs": [
    {
     "name": "stdout",
     "output_type": "stream",
     "text": [
      "config i\n",
      "Pressure: 1.19e+05, Temperature: 510, Mach Number: 7.25\n",
      "config ii\n",
      "Pressure: 278, Temperature: 762, Mach Number: 5.93\n",
      "config iii\n",
      "Pressure: 2.77e+05, Temperature: 752, Mach Number: 5.97\n"
     ]
    }
   ],
   "source": [
    "from __init__ import NormalShockRatio, normal_shock\n",
    "\n",
    "for ind, conf in enumerate(driver_configs):\n",
    "  print(\"config\", \"\".join([\"i\"] * (ind + 1)))\n",
    "\n",
    "  shock_ratio = normal_shock(conf.shock_mach, driven_gamma)\n",
    "\n",
    "  pressure = conf.driven_pressure * shock_ratio.pressure_ratio\n",
    "  temp = driven_temp * shock_ratio.temp_ratio\n",
    "\n",
    "  conf.p_two = pressure\n",
    "\n",
    "  a_two = (driven_gamma * driven_R * temp) ** 0.5\n",
    "\n",
    "  mach_two = u_contact / a_two\n",
    "\n",
    "  print(\"Pressure: {:.3g}, Temperature: {:.3g}, Mach Number: {:.3g}\".format(pressure, temp, mach_two))\n"
   ]
  },
  {
   "cell_type": "markdown",
   "metadata": {},
   "source": [
    "### e"
   ]
  },
  {
   "cell_type": "code",
   "execution_count": 55,
   "metadata": {},
   "outputs": [
    {
     "name": "stdout",
     "output_type": "stream",
     "text": [
      "config i\n",
      "Pressure: 4.61e+05, Temperature: 3.43e+03\n",
      "config ii\n",
      "Pressure: 1.78e+03, Temperature: 3.02e+05\n",
      "config iii\n",
      "Pressure: 1.75e+06, Temperature: 2.26e+05\n"
     ]
    }
   ],
   "source": [
    "for ind, conf in enumerate(driver_configs):\n",
    "  print(\"config\", \"\".join([\"i\"] * (ind + 1)))\n",
    "\n",
    "  pressure_ratio = 1 + 2 * (conf.p_two - conf.driven_pressure) / conf.driven_pressure\n",
    "  pressure_ratio *= (1 + (3 * driven_gamma - 1) / 2 / (driven_gamma + 1) * (conf.shock_mach ** 2 - 1))\n",
    "  pressure_ratio /= 1 + (driven_gamma - 1) / (driven_gamma + 1) * (conf.shock_mach ** 2 - 1)\n",
    "\n",
    "  temp_ratio = 1 + 4 * (driven_gamma - 1) / (driven_gamma + 1) * (conf.shock_mach ** 2 - 1) / conf.shock_mach\n",
    "  temp_ratio *= 1 + (3 * driven_gamma - 1) / 2 / (driven_gamma + 1) * (conf.shock_mach ** 2 - 1)\n",
    "\n",
    "  pressure = conf.driven_pressure * pressure_ratio\n",
    "  temp = driven_temp * temp_ratio\n",
    "\n",
    "  print(\"Pressure: {:.3g}, Temperature: {:.3g}\".format(pressure, temp))"
   ]
  }
 ],
 "metadata": {
  "kernelspec": {
   "display_name": "Python 3",
   "language": "python",
   "name": "python3"
  },
  "language_info": {
   "codemirror_mode": {
    "name": "ipython",
    "version": 3
   },
   "file_extension": ".py",
   "mimetype": "text/x-python",
   "name": "python",
   "nbconvert_exporter": "python",
   "pygments_lexer": "ipython3",
   "version": "3.12.0"
  }
 },
 "nbformat": 4,
 "nbformat_minor": 2
}
